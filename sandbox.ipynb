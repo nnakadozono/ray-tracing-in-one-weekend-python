{
 "cells": [
  {
   "cell_type": "code",
   "execution_count": 28,
   "metadata": {},
   "outputs": [],
   "source": [
    "import math\n",
    "\n",
    "class Vec3():\n",
    "    def __init__(self, e0=0, e1=0, e2=0):\n",
    "        self.e = [e0, e1, e2]\n",
    "\n",
    "    def x(self):\n",
    "        return self.e[0]\n",
    "    \n",
    "    def y(self):\n",
    "        return self.e[1]\n",
    "\n",
    "    def z(self):\n",
    "        return self.e[2]\n",
    "\n",
    "    def __neg__(self):\n",
    "        return Vec3(-self.e[0], -self.e[1], -self.e[2])\n",
    "    \n",
    "    def __getitem__(self, num):\n",
    "        return self.e[num]\n",
    "    \n",
    "    def __iadd__(self, v):\n",
    "        ''' += '''\n",
    "        self.e[0] += v.e[0]\n",
    "        self.e[1] += v.e[1]\n",
    "        self.e[2] += v.e[2]\n",
    "        return self\n",
    "\n",
    "    def __imul__(self, t):\n",
    "        ''' *= '''\n",
    "\n",
    "        self.e[0] *= t\n",
    "        self.e[1] *= t\n",
    "        self.e[2] *= t\n",
    "        return self\n",
    "\n",
    "    def __itruediv__(self, t):\n",
    "        ''' /= '''\n",
    "        self.e *= 1/t\n",
    "        return self\n",
    "\n",
    "    def length(self):\n",
    "        return math.sqrt(self.length_squared())\n",
    "    \n",
    "    def length_squared(self):\n",
    "        return self.e[0]*self.e[0] + self.e[1]*self.e[1] + self.e[2]*self.e[2]\n",
    "\n",
    "    def __str__(self):\n",
    "        return f\"{self.e[0]} {self.e[1]} {self.e[2]}\"\n",
    "\n",
    "    def __add__(self, v):\n",
    "        return Vec3(self.e[0] + v.e[0], self.e[1] + v.e[1], self.e[2] + v.e[2])\n",
    "\n",
    "    def __sub__(self, v):\n",
    "        return Vec3(self.e[0] - v.e[0], self.e[1] - v.e[1], self.e[2] - v.e[2])\n",
    "    \n",
    "    def __mul__(self, v):\n",
    "        if isinstance(v, Vec3):\n",
    "            ''' self * v '''\n",
    "            return Vec3(self.e[0] * v.e[0], self.e[1] * v.e[1], self.e[2] * v.e[2])\n",
    "        elif isinstance(v, (int, float)):\n",
    "            ''' self * t '''\n",
    "            return Vec3(self.e[0] * v, self.e[1] * v, self.e[2] * v)\n",
    "        else:\n",
    "            return NotImplemented\n",
    "        \n",
    "    def __rmul__(self, t):\n",
    "        ''' t * self '''\n",
    "        return self.__mul__(t)\n",
    "\n",
    "    def __truediv__(self, t):\n",
    "        ''' self / t '''\n",
    "        return self.__mul__(1/t)\n",
    "\n",
    "Point3 = Vec3\n",
    "\n",
    "def dot(u, v):\n",
    "    return u.e[0] * v.e[0] + u.e[1] * v.e[1] + u.e[2] * v.e[2]\n",
    "\n",
    "def cross(u, v):\n",
    "    return Vec3(u.e[1] * v.e[2] - u.e[2] * v.e[1],\n",
    "                u.e[2] * v.e[0] - u.e[0] * v.e[2],\n",
    "                u.e[0] * v.e[1] - u.e[1] * v.e[0])\n",
    "\n",
    "def unit_vector(v):\n",
    "    return v / v.length()"
   ]
  },
  {
   "cell_type": "code",
   "execution_count": 29,
   "metadata": {},
   "outputs": [
    {
     "name": "stdout",
     "output_type": "stream",
     "text": [
      "a: 1 2 3\n",
      "b: 4 5 6\n",
      "-a: -1 -2 -3\n",
      "a+=b: 5 7 9\n",
      "a.length: 12.449899597988733\n",
      "a+b: 9 12 15\n",
      "a*2: 10 14 18\n",
      "a*b: 20 35 54\n",
      "a*b: 10 14 18\n",
      "a/2: 2.5 3.5 4.5\n",
      "dot(a, b): 109\n",
      "cross(a, b): -3 6 -3\n",
      "unit_vector(a): 0.40160966445124946 0.5622535302317492 0.722897396012249\n",
      "unit_vector(a).length: 1.0\n"
     ]
    }
   ],
   "source": [
    "a = Vec3(1, 2, 3)\n",
    "b = Vec3(4, 5, 6)\n",
    "\n",
    "print(f'a: {a}')\n",
    "print(f'b: {b}')\n",
    "\n",
    "print(f'-a: {-a}')\n",
    "a += b\n",
    "print(f'a+=b: {a}')\n",
    "print(f'a.length: {a.length()}')\n",
    "\n",
    "c = a + b\n",
    "print(f'a+b: {c}')\n",
    "\n",
    "print(f'a*2: {a*2}')\n",
    "print(f'a*b: {a*b}')\n",
    "print(f'a*b: {2*a}')\n",
    "print(f'a/2: {a/2}')\n",
    "\n",
    "print(f'dot(a, b): {dot(a, b)}')\n",
    "\n",
    "print(f'cross(a, b): {cross(a,b)}')\n",
    "print(f'unit_vector(a): {unit_vector(a)}')\n",
    "print(f'unit_vector(a).length: {unit_vector(a).length()}')"
   ]
  },
  {
   "cell_type": "markdown",
   "metadata": {},
   "source": [
    "# color.py"
   ]
  },
  {
   "cell_type": "code",
   "execution_count": 30,
   "metadata": {},
   "outputs": [],
   "source": [
    "Color = Vec3\n",
    "def write_color(pixel_color: Color):\n",
    "    # Write the translated [0, 255] value of each color component.\n",
    "    ir = int(255.999 * pixel_color.x())\n",
    "    ig = int(255.999 * pixel_color.y())\n",
    "    ib = int(255.999 * pixel_color.z())\n",
    "\n",
    "    print(f\"{ir} {ig} {ib}\")"
   ]
  },
  {
   "cell_type": "code",
   "execution_count": 31,
   "metadata": {},
   "outputs": [
    {
     "name": "stdout",
     "output_type": "stream",
     "text": [
      "127 153 179\n"
     ]
    }
   ],
   "source": [
    "write_color(Color(0.5, 0.6, 0.7))"
   ]
  },
  {
   "cell_type": "markdown",
   "metadata": {},
   "source": [
    "# ray"
   ]
  },
  {
   "cell_type": "code",
   "execution_count": 33,
   "metadata": {},
   "outputs": [],
   "source": [
    "class Ray:\n",
    "    def __init__(self, origin, direction):\n",
    "        self.__orig = origin\n",
    "        self.__dir = direction\n",
    "\n",
    "    def at(self, t):\n",
    "        return self.__orig + t * self.__dir\n"
   ]
  },
  {
   "cell_type": "code",
   "execution_count": 35,
   "metadata": {},
   "outputs": [],
   "source": [
    "aspet_ratio = 16.0 / 9.0\n",
    "image_width = 400\n",
    "\n",
    "image_height = int(image_width / aspet_ratio)\n",
    "image_height = 1 if (image_height < 1) else image_height\n",
    "\n",
    "viewport_height = 2.0\n",
    "viewport_width = viewport_height * float(image_width / image_height)"
   ]
  },
  {
   "cell_type": "code",
   "execution_count": null,
   "metadata": {},
   "outputs": [],
   "source": []
  },
  {
   "cell_type": "code",
   "execution_count": null,
   "metadata": {},
   "outputs": [],
   "source": []
  },
  {
   "cell_type": "code",
   "execution_count": null,
   "metadata": {},
   "outputs": [],
   "source": []
  }
 ],
 "metadata": {
  "kernelspec": {
   "display_name": "Python 3",
   "language": "python",
   "name": "python3"
  },
  "language_info": {
   "codemirror_mode": {
    "name": "ipython",
    "version": 3
   },
   "file_extension": ".py",
   "mimetype": "text/x-python",
   "name": "python",
   "nbconvert_exporter": "python",
   "pygments_lexer": "ipython3",
   "version": "3.9.1"
  }
 },
 "nbformat": 4,
 "nbformat_minor": 2
}
